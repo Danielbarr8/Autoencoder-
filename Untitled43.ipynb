{
  "cells": [
    {
      "cell_type": "markdown",
      "metadata": {
        "id": "view-in-github",
        "colab_type": "text"
      },
      "source": [
        "<a href=\"https://colab.research.google.com/github/Danielbarr8/Autoencoder-/blob/main/Untitled43.ipynb\" target=\"_parent\"><img src=\"https://colab.research.google.com/assets/colab-badge.svg\" alt=\"Open In Colab\"/></a>"
      ]
    },
    {
      "cell_type": "code",
      "execution_count": null,
      "metadata": {
        "colab": {
          "background_save": true,
          "base_uri": "https://localhost:8080/"
        },
        "id": "kPonane3bS5E",
        "outputId": "51004b04-da11-423c-835c-07a5492b9058"
      },
      "outputs": [
        {
          "metadata": {
            "tags": null
          },
          "name": "stdout",
          "output_type": "stream",
          "text": [
            "Welcome to Math Explorer!\n",
            "Solve puzzles with your AI guide to advance through the adventure.\n",
            "Level 1: Solve this problem: 5 + 2\n",
            "Correct! You advance to the next level.\n",
            "Your score: 10\n",
            "Level 2: Solve this problem: 17 // 14\n"
          ]
        }
      ],
      "source": [
        "import random\n",
        "\n",
        "class MathExplorer:\n",
        "    def __init__(self):\n",
        "        self.levels = 1\n",
        "        self.score = 0\n",
        "\n",
        "    def generate_problem(self):\n",
        "        operations = ['+', '-', '*', '//']\n",
        "        num1 = random.randint(1, 10 * self.levels)\n",
        "        num2 = random.randint(1, 10 * self.levels)\n",
        "        operation = random.choice(operations)\n",
        "        problem = f\"{num1} {operation} {num2}\"\n",
        "        solution = eval(problem)\n",
        "        return problem, solution\n",
        "\n",
        "    def start_game(self):\n",
        "        print(\"Welcome to Math Explorer!\")\n",
        "        print(\"Solve puzzles with your AI guide to advance through the adventure.\")\n",
        "\n",
        "        while True:\n",
        "            problem, solution = self.generate_problem()\n",
        "            print(f\"Level {self.levels}: Solve this problem: {problem}\")\n",
        "            player_answer = input(\"Your answer (type 'exit' to quit): \")\n",
        "\n",
        "            if player_answer.lower() == 'exit':\n",
        "                break\n",
        "\n",
        "            if int(player_answer) == solution:\n",
        "                print(\"Correct! You advance to the next level.\")\n",
        "                self.levels += 1\n",
        "                self.score += 10\n",
        "            else:\n",
        "                print(f\"Incorrect. The correct answer was {solution}. Try again!\")\n",
        "\n",
        "            print(f\"Your score: {self.score}\")\n",
        "\n",
        "        print(\"Thanks for playing Math Explorer! Your final score:\", self.score)\n",
        "\n",
        "# Start the game\n",
        "game = MathExplorer()\n",
        "game.start_game()"
      ]
    },
    {
      "cell_type": "code",
      "source": [],
      "metadata": {
        "id": "G742dVglsCV1"
      },
      "execution_count": null,
      "outputs": []
    },
    {
      "cell_type": "code",
      "execution_count": null,
      "metadata": {
        "id": "50UX9YSKeB1K"
      },
      "outputs": [],
      "source": []
    }
  ],
  "metadata": {
    "colab": {
      "provenance": [],
      "authorship_tag": "ABX9TyOq/TSUeGitHdkM10ANoCY5",
      "include_colab_link": true
    },
    "kernelspec": {
      "display_name": "Python 3",
      "name": "python3"
    },
    "language_info": {
      "name": "python"
    }
  },
  "nbformat": 4,
  "nbformat_minor": 0
}